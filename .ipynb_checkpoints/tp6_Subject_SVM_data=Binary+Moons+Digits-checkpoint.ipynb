{
 "cells": [
  {
   "cell_type": "markdown",
   "metadata": {},
   "source": [
    "# Support Vector Machines"
   ]
  },
  {
   "cell_type": "markdown",
   "metadata": {},
   "source": [
    "### Linear case"
   ]
  },
  {
   "cell_type": "markdown",
   "metadata": {},
   "source": [
    "In this first part, we deal with a linear SVM. In this simple version, SVM reduces to a linear classfier $h(x)$ (or Linear Discriminant Analysis) parametrized by $\\mathbf{w}$ and $b$ separating space by the hyperplane equation $\\mathbf{w} \\cdot \\mathbf{x} + b = 0$\n",
    "\n",
    "Formally, we set $(\\mathbf{x_i},y_i)_{i=1}^n$ a set of $n$ training points,\n",
    "with $\\mathbf{x_i} \\in \\mathbb{R}^d$ and $y_i \\in \\{ -1, 1\\}.$\n",
    "We then solve for $\\mathbf{w},b$:\n",
    "\\begin{array}{ll}\n",
    "\\mbox{minimize } &\\frac{1}{2}~||\\mathbf{w}||^2 + C \\sum_{i=1}^n \\zeta_i \\\\\n",
    "\\mbox{under constraints } &\n",
    "\\forall i, \\quad y_i(\\mathbf{w}\\cdot\\mathbf{x_i} +  b) \\geq 1 - \\zeta_i  \\\\\n",
    " & \\forall i,\\quad \\zeta_i  \\geq 0\\\\\n",
    "\\end{array}\n",
    "\n",
    "We then obtain a series of coefficients $(\\alpha_i)_{i=1}^n, \\alpha_i \\geq 0$ and\n",
    "\n",
    "$\\mathbf{w}=\\sum_{i=1}^n \\alpha_i y_i \\mathbf{x_i}$\n",
    "\n",
    "$h(\\mathbf{x}) =  \\mathbf{w}.\\mathbf{x} + b$\n",
    "\n",
    "\n",
    "vecotrs $\\mathbf{x_i}$ such that $\\alpha_i > 0$ are called support vectors."
   ]
  },
  {
   "cell_type": "code",
   "execution_count": 6,
   "metadata": {},
   "outputs": [],
   "source": [
    "from __future__ import absolute_import\n",
    "from __future__ import division\n",
    "from __future__ import print_function\n",
    "\n",
    "import numpy as np\n",
    "import matplotlib.pyplot as plt\n",
    "# %matplotlib inline\n",
    "from sklearn.svm import LinearSVC\n",
    "#http://scikit-learn.org/stable/modules/generated/sklearn.svm.LinearSVC.html"
   ]
  },
  {
   "cell_type": "code",
   "execution_count": 7,
   "metadata": {},
   "outputs": [],
   "source": [
    "def plot_boundary(clf, X, y):\n",
    "    h = 0.002 ## grid mesh size\n",
    "    x_min, x_max = X[:, 0].min() - .1, X[:, 0].max() + .1 \n",
    "    y_min, y_max = X[:, 1].min() - .1, X[:, 1].max() + .1\n",
    "    xx, yy = np.meshgrid(np.arange(x_min, x_max, h),\n",
    "                         np.arange(y_min, y_max, h))\n",
    "\n",
    "    Z = clf.predict(np.c_[xx.ravel(), yy.ravel()]) ## prediction value by zone\n",
    "    Z = Z.reshape(xx.shape)\n",
    "    \n",
    "    plt.figure(figsize=[5,5]) ## equal x and y lengths for a squared figure\n",
    "    plt.contourf(xx, yy, Z, cmap=plt.cm.Paired, alpha=0.8)\n",
    "\n",
    "    plt.scatter(X[:, 0], X[:, 1], c=y, s = 100)\n",
    "    plt.title('score : ' + str(clf.score(X,y)))\n",
    "    plt.xlabel('$x_1$')\n",
    "    plt.ylabel('$x_2$')\n",
    "    plt.legend()\n",
    "    plt.xlim([0,1])\n",
    "    plt.ylim([0,1])\n"
   ]
  },
  {
   "cell_type": "markdown",
   "metadata": {},
   "source": [
    "### Questions :\n",
    "    \n",
    "- Linearly separable case :    \n",
    "   - Generate a linearly separable training set made of 50 examples with 2 features named $x_1,x_2$ (for instance, positive labels when $x_1 >0$).\n",
    "   - Plot this training set with colored labels (markers).\n",
    "   - Train a linear SVM (*from sklearn.svm import LinearSVC*).\n",
    "   - Plot the decision frontier (use *plot_boundary*, provided below)."
   ]
  },
  {
   "cell_type": "markdown",
   "metadata": {},
   "source": [
    "- \"Not really linearly separable\" case:\n",
    "   - On this set, add noise to the label $y$: i.e. with probability $ p $, flip the label: $ y_i = 1-y_i $.\n",
    "   - Plot this noisy training set.\n",
    "   - Make a test set (drawn from the same distribution). \n",
    "   - Train a linear SVM and vary the parameter C. For each value of C, compute the train and test error (and plot the decision boundary). "
   ]
  },
  {
   "cell_type": "code",
   "execution_count": null,
   "metadata": {},
   "outputs": [],
   "source": []
  },
  {
   "cell_type": "markdown",
   "metadata": {},
   "source": [
    "- XOR case:\n",
    "     - generate the following training set:\n",
    "         X = [(0,0), (1,0), (0,1), (1,1)] and y = (1,0,0,1)\n",
    "     - plot this training set with color labels.\n",
    "     - train a linear SVM (from sklearn.svm import LinearSVC)\n",
    "     - display the decision frontier"
   ]
  },
  {
   "cell_type": "code",
   "execution_count": null,
   "metadata": {},
   "outputs": [],
   "source": []
  },
  {
   "cell_type": "markdown",
   "metadata": {},
   "source": [
    "### Non linear case:"
   ]
  },
  {
   "cell_type": "markdown",
   "metadata": {},
   "source": [
    "The \"Kernel trick\" allows to extend the hypothesis space $H(x)$ \n",
    "The idea is to embed the training data into a space of higher dimension (the so-called *feature space*).\n",
    "This is done using a function $\\phi(x)$.\n",
    "\n",
    "The decision function $h(x)$ thus reads:\n",
    "\n",
    "\\begin{align} h(\\mathbf{x}) =&  \\sum_{i=1}^n \\alpha_i y_i \\phi(x_i) \\cdot \\phi(x) + b \n",
    "\\\\\n",
    "=& \\sum_{i=1}^n \\alpha_i y_i K(\\mathbf{x_i},\\mathbf{x}) + b. \n",
    "\\end{align}\n"
   ]
  },
  {
   "cell_type": "markdown",
   "metadata": {},
   "source": [
    "#### Kernels : \n",
    "\n",
    "The kernel function $K(\\mathbf{x},\\mathbf{x'})$ is generlaly one of the following: \n",
    "\n",
    "- linear (no Kernel trick): $\\langle x, x'\\rangle.$\n",
    "\n",
    "- polynomial: $(\\gamma \\langle x, x'\\rangle + r)^d.$  where the degree $d$ is specified by the argument $degree$, r by $coef0$.\n",
    "\n",
    "- Gaussian: $\\exp(-\\gamma |x-x'|^2).$ where $\\gamma > 0$ is specified by the argument $gamma$.\n",
    "\n",
    "- sigmoidal : $(\\tanh(\\gamma \\langle x,x'\\rangle + r))$, where $r$ is specified by the argument $coef0.$           "
   ]
  },
  {
   "cell_type": "markdown",
   "metadata": {
    "collapsed": true
   },
   "source": [
    "### Questions : \n",
    "- We need to generate non linearly separable data and display them with colors. We can use:\n",
    "    - *from sklearn.datasets import make_moons* \n",
    "    - *X, y = make_moons(noise = 0.1)*\n",
    "\n",
    "- With the same method, generate a test set.\n",
    "\n",
    "- Train a SVM for each possible kernel, with a couple values of $C$ values each time.\n",
    "\n",
    "- We can diaply the support vectors using the attribute $support\\_vectors\\_$"
   ]
  },
  {
   "cell_type": "code",
   "execution_count": 10,
   "metadata": {
    "scrolled": true
   },
   "outputs": [
    {
     "data": {
      "text/plain": [
       "<matplotlib.collections.PathCollection at 0x7fe867892a50>"
      ]
     },
     "execution_count": 10,
     "metadata": {},
     "output_type": "execute_result"
    },
    {
     "data": {
      "image/png": "[encoded data removed]",
      "text/plain": [
       "<Figure size 432x288 with 1 Axes>"
      ]
     },
     "metadata": {},
     "output_type": "display_data"
    }
   ],
   "source": [
    "from sklearn.svm import SVC\n",
    "#http://scikit-learn.org/stable/modules/generated/sklearn.svm.SVC.html\n",
    "from sklearn.datasets import make_moons\n",
    "X, y = make_moons(noise = 0.1, random_state=1, n_samples=40)\n",
    "plt.scatter(X[:,0],X[:,1], c = y, s = 100)"
   ]
  },
  {
   "cell_type": "code",
   "execution_count": null,
   "metadata": {},
   "outputs": [],
   "source": []
  },
  {
   "cell_type": "markdown",
   "metadata": {},
   "source": [
    "### Conclusion :     \n",
    "\n",
    "On the hand-written digits (MNIST):\n",
    "   - Train a decision tree \n",
    "   - Train a SVM \n",
    "   - Compare the results\n",
    "   \n",
    "In both cases, choose appropriate hyperparameters (using either train+test or simply test set).\n",
    "\n",
    "For measuring scores, of course, you must use a validation set."
   ]
  },
  {
   "cell_type": "code",
   "execution_count": 17,
   "metadata": {
    "scrolled": true
   },
   "outputs": [
    {
     "data": {
      "image/png": "[encoded data removed]",
      "text/plain": [
       "<Figure size 432x288 with 1 Axes>"
      ]
     },
     "metadata": {},
     "output_type": "display_data"
    },
    {
     "data": {
      "image/png": "[encoded data removed]",
      "text/plain": [
       "<Figure size 432x288 with 1 Axes>"
      ]
     },
     "metadata": {},
     "output_type": "display_data"
    },
    {
     "data": {
      "image/png": "[encoded data removed]",
      "text/plain": [
       "<Figure size 432x288 with 1 Axes>"
      ]
     },
     "metadata": {},
     "output_type": "display_data"
    }
   ],
   "source": [
    "# Load the reduced-MNIST data (1800 images of 8x8)\n",
    "from sklearn import datasets\n",
    "\n",
    "digits = datasets.load_digits()\n",
    "images = digits.images\n",
    "n_samples = len(digits.images)\n",
    "\n",
    "X = images.reshape((n_samples, -1))\n",
    "y = digits.target\n",
    "\n",
    "for image in images[np.random.choice(range(n_samples),3)]:\n",
    "    plt.figure()\n",
    "    plt.imshow(image, cmap=plt.cm.gray_r, interpolation='nearest')"
   ]
  },
  {
   "cell_type": "code",
   "execution_count": 18,
   "metadata": {},
   "outputs": [
    {
     "name": "stdout",
     "output_type": "stream",
     "text": [
      "X_train : 898 examples, with 8*8 = 64 features.\n"
     ]
    }
   ],
   "source": [
    "X_train = X[0:n_samples // 2]\n",
    "y_train = y[0:n_samples // 2]\n",
    "\n",
    "X_test = X[n_samples // 2:(n_samples*3//4)]\n",
    "y_test = y[n_samples // 2:(n_samples*3//4)]\n",
    "\n",
    "X_valid = X[(n_samples*3//4):]\n",
    "y_valid = y[(n_samples*3//4):]\n",
    "\n",
    "print(\"X_train : {} examples, with 8*8 = {} features.\".format(X_train.shape[0], X_train.shape[1]))"
   ]
  },
  {
   "cell_type": "code",
   "execution_count": null,
   "metadata": {},
   "outputs": [],
   "source": []
  }
 ],
 "metadata": {
  "kernelspec": {
   "display_name": "Python 3",
   "language": "python",
   "name": "python3"
  },
  "language_info": {
   "codemirror_mode": {
    "name": "ipython",
    "version": 3
   },
   "file_extension": ".py",
   "mimetype": "text/x-python",
   "name": "python",
   "nbconvert_exporter": "python",
   "pygments_lexer": "ipython3",
   "version": "3.6.9"
  }
 },
 "nbformat": 4,
 "nbformat_minor": 1
}
