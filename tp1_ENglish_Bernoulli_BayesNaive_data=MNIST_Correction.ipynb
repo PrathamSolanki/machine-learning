{
 "cells": [
  {
   "cell_type": "markdown",
   "metadata": {},
   "source": [
    "## Jupyter Notebook:\n",
    "check a few things: how to save (Ctrl+S), how to run a code block (Caps+Enter),how to move (arrows), how to create a cell (find it yourself ! : browse the menus a bit before starting !).\n",
    "Note: in jupyter, like in ipython, if you just write a variable name at the end of your code (or running cell), its value will be displayed (you do not need to write \"print(myVariable)\", it's enough to write \"myVariable\")"
   ]
  },
  {
   "cell_type": "code",
   "execution_count": 1,
   "metadata": {},
   "outputs": [
    {
     "data": {
      "text/plain": [
       "'3.6.8'"
      ]
     },
     "execution_count": 1,
     "metadata": {},
     "output_type": "execute_result"
    }
   ],
   "source": [
    "from platform import python_version\n",
    "python_version()"
   ]
  },
  {
   "cell_type": "code",
   "execution_count": 2,
   "metadata": {},
   "outputs": [
    {
     "name": "stdout",
     "output_type": "stream",
     "text": [
      "3.6.8\n"
     ]
    },
    {
     "data": {
      "text/plain": [
       "'some string with some value, typed into the last line of the cell'"
      ]
     },
     "execution_count": 2,
     "metadata": {},
     "output_type": "execute_result"
    }
   ],
   "source": [
    "python_version()\n",
    "print(python_version()) #does the same as above\n",
    "\"some string with some value, typed into the last line of the cell\""
   ]
  },
  {
   "cell_type": "code",
   "execution_count": 3,
   "metadata": {},
   "outputs": [
    {
     "name": "stdout",
     "output_type": "stream",
     "text": [
      "3.6.8\n"
     ]
    },
    {
     "data": {
      "text/plain": [
       "'3.6.8'"
      ]
     },
     "execution_count": 3,
     "metadata": {},
     "output_type": "execute_result"
    }
   ],
   "source": [
    "print(python_version()) #does the same as above\n",
    "python_version()"
   ]
  },
  {
   "cell_type": "code",
   "execution_count": 4,
   "metadata": {},
   "outputs": [],
   "source": [
    "# ### this is useful only if you unfortunately run suing python2. If you run python3, these lines are effect-less.\n",
    "from __future__ import absolute_import\n",
    "from __future__ import division\n",
    "from __future__ import print_function"
   ]
  },
  {
   "cell_type": "markdown",
   "metadata": {
    "slideshow": {
     "slide_type": "-"
    }
   },
   "source": [
    "# Goal of the tutorial:\n",
    "\n",
    "The aim of this tutorial is to implement the Naive Bayesian calssifier on the MNIST image data set. (optionally, also on the 20newsgroups text data set).\n",
    "\n",
    "Let's begin with MNIST. It's in the GDrive, and may be accessed \"locally\" at: \n",
    "https://www.lri.fr/~flandes/share/ \n",
    "    \n",
    "MNIST contains images (observations, inputs) of single hand-written digits and the corresponding classes (labels, Ground Truth). \n",
    "So it is a 10-classes classification problem (0 to 9).\n",
    "\n",
    "\n",
    "## Loading the data"
   ]
  },
  {
   "cell_type": "code",
   "execution_count": 4,
   "metadata": {},
   "outputs": [
    {
     "name": "stdout",
     "output_type": "stream",
     "text": [
      "50000 training examples\n"
     ]
    }
   ],
   "source": [
    "import numpy as np\n",
    "import matplotlib\n",
    "import matplotlib.pyplot as plt \n",
    "from ipywidgets import FloatProgress\n",
    "from IPython.display import display\n",
    "\n",
    "# ## Load the dataset -- (python2)\n",
    "# import cPickle, gzip\n",
    "# with gzip.open('./tp1-mnist.pkl.gz','rb') as f :\n",
    "#     train_set, valid_set, test_set = cPickle.load(f)\n",
    "\n",
    "### Load the dataset -- (python3)\n",
    "import pickle, gzip\n",
    "with gzip.open('./mnist.pkl.gz','rb') as f :\n",
    "    u = pickle._Unpickler( f )\n",
    "    u.encoding = 'latin1'\n",
    "    train_set, valid_set, test_set = u.load()\n",
    "\n",
    "NLABELS=10\n",
    "print(str(len(train_set[0]))+\" training examples\")\n",
    "# exemple: \n",
    "im    = train_set[0][0] # the first image\n",
    "label = train_set[1][0] # its label"
   ]
  },
  {
   "cell_type": "code",
   "execution_count": 5,
   "metadata": {},
   "outputs": [
    {
     "data": {
      "text/plain": [
       "<matplotlib.image.AxesImage at 0x17dfc0b05f8>"
      ]
     },
     "execution_count": 5,
     "metadata": {},
     "output_type": "execute_result"
    },
    {
     "data": {
      "image/png": "[encoded data removed]",
      "text/plain": [
       "<Figure size 432x288 with 1 Axes>"
      ]
     },
     "metadata": {
      "needs_background": "light"
     },
     "output_type": "display_data"
    }
   ],
   "source": [
    "plt.imshow(im.reshape(28,28) , matplotlib.pyplot.cm.gray)    \n",
    "# plt.contourf(im.reshape(28,28))"
   ]
  },
  {
   "cell_type": "code",
   "execution_count": null,
   "metadata": {},
   "outputs": [],
   "source": []
  },
  {
   "cell_type": "markdown",
   "metadata": {},
   "source": [
    "## Content of data\n",
    "\n",
    "Images are stored as numpy arrays, where each line is an image, i.e. a 784-rows vector (28x28=784). Each pixel encodes a Grey value between 0 and 1.\n",
    "* What do train_set, valid_set, test_set contain ? (size, type, ... )\n",
    "* Write a function binarize_image(image, threshold) with a default threshold=0.5 to project an image onto binary pixels (black&white intead of grey levels)\n",
    "* Try various thresholds and look for differences."
   ]
  },
  {
   "cell_type": "code",
   "execution_count": 6,
   "metadata": {},
   "outputs": [
    {
     "data": {
      "text/plain": [
       "<matplotlib.image.AxesImage at 0x17dfc157630>"
      ]
     },
     "execution_count": 6,
     "metadata": {},
     "output_type": "execute_result"
    },
    {
     "data": {
      "image/png": "[encoded data removed]",
      "text/plain": [
       "<Figure size 432x288 with 1 Axes>"
      ]
     },
     "metadata": {
      "needs_background": "light"
     },
     "output_type": "display_data"
    }
   ],
   "source": [
    "## train set contains train images and train labels\n",
    "## same thing for valid and test set\n",
    "\n",
    "def binarize_image(image, threshold=0.5):\n",
    "    binarized_image = image.copy() ## make a deep copy (not necessary but more clear to read)\n",
    "    binarized_image = np.array((image > threshold), dtype=int) ## \"dtype=int\" allows to cast the bool into ints\n",
    "    return binarized_image\n",
    "## we test it on one image:\n",
    "just_1_image_for_test = binarize_image(train_set[0][0], 0.3)\n",
    "plt.imshow(just_1_image_for_test.reshape(28,28) , matplotlib.pyplot.cm.gray)    \n"
   ]
  },
  {
   "cell_type": "code",
   "execution_count": 7,
   "metadata": {},
   "outputs": [
    {
     "data": {
      "text/plain": [
       "<matplotlib.image.AxesImage at 0x17dfc1c0748>"
      ]
     },
     "execution_count": 7,
     "metadata": {},
     "output_type": "execute_result"
    },
    {
     "data": {
      "image/png": "[encoded data removed]",
      "text/plain": [
       "<Figure size 432x288 with 1 Axes>"
      ]
     },
     "metadata": {
      "needs_background": "light"
     },
     "output_type": "display_data"
    }
   ],
   "source": [
    "just_1_image_for_test = binarize_image(train_set[0][0], 0.8)\n",
    "plt.imshow(just_1_image_for_test.reshape(28,28) , matplotlib.pyplot.cm.gray)    \n"
   ]
  },
  {
   "cell_type": "markdown",
   "metadata": {},
   "source": [
    "## Getting to know the data\n",
    "Here are a few examples"
   ]
  },
  {
   "cell_type": "code",
   "execution_count": null,
   "metadata": {},
   "outputs": [],
   "source": []
  },
  {
   "cell_type": "code",
   "execution_count": 8,
   "metadata": {
    "scrolled": true
   },
   "outputs": [
    {
     "name": "stdout",
     "output_type": "stream",
     "text": [
      "shape d'images  :(50000, 784)\n",
      "shape de labels :(50000,)\n",
      "val. max   0.99609375\n",
      "val. min   0.0\n",
      "val. mean  0.13044983\n",
      "val. var   0.094427034\n",
      "number of images of which the digit shwon is a 5 :4506\n",
      "fives contains all images of which the label is 5, there number is:(4506, 784)\n"
     ]
    }
   ],
   "source": [
    "# getting images and their labels\n",
    "images = train_set[0]\n",
    "labels = train_set[1]\n",
    "images_test = test_set[0]\n",
    "labels_test = test_set[1]\n",
    "print(\"shape d'images  :\"+str(images.shape))\n",
    "print(\"shape de labels :\"+str(labels.shape))\n",
    "# values\n",
    "print(\"val. max  \", images.max())\n",
    "print(\"val. min  \", images.min())\n",
    "print(\"val. mean \", images.mean())\n",
    "print(\"val. var  \", images.var())\n",
    "\n",
    "# how many images represent the digit \"5\" ?\n",
    "print(\"number of images of which the digit shwon is a 5 :\"+str((labels==5).sum()))\n",
    "# labels==5 returns an ndarray of same dimensionality as labels but filled with booleans.\n",
    "# if the label is 5, True (1), else, False (0).\n",
    "# On peut se servir de cet ndarray pour faire du slicing de images\n",
    "fives = (images[labels==5])\n",
    "print(\"fives contains all images of which the label is 5, there number is:\"+str(fives.shape))\n"
   ]
  },
  {
   "cell_type": "markdown",
   "metadata": {},
   "source": [
    "## Naive Bayesian (model chosen: Bernoulli)\n",
    "Observations (images) are initially continuous. We need to project these data onto the space accessible to our model. In the case of Bernoulli, each pixel can only be 0 or 1 (intermediate values cannot be sampled from a Bernoulli law).\n",
    "\n",
    "### pre-processing (of the data -what else?)\n",
    "\n",
    "- Apply the thresholding operation to all *train* and *test* data. (it may take ~O(1) minute: try your function on test images, they are fewer)\n",
    "- Check it on a couple of images.\n"
   ]
  },
  {
   "cell_type": "code",
   "execution_count": 9,
   "metadata": {},
   "outputs": [],
   "source": [
    "# binarized training-set images\n",
    "bin_train_imgs = binarize_image(train_set[0][:], 0.3)\n",
    "# binarized testing-set images\n",
    "bin_test_imgs = binarize_image(test_set[0][:], 0.3)\n",
    "## note: we called the same function binarize_image with arguments that are \n",
    "## either just 1 image   (train_set[0][0])\n",
    "## or all images at once (train_set[0][:]) !!\n",
    "## And in both cases it worked. This is the magic of python :) "
   ]
  },
  {
   "cell_type": "code",
   "execution_count": 10,
   "metadata": {},
   "outputs": [
    {
     "name": "stdout",
     "output_type": "stream",
     "text": [
      "(50000, 784)\n"
     ]
    },
    {
     "data": {
      "text/plain": [
       "array([[0, 0, 0, ..., 0, 0, 0],\n",
       "       [0, 0, 0, ..., 0, 0, 0],\n",
       "       [0, 0, 0, ..., 0, 0, 0],\n",
       "       ...,\n",
       "       [0, 0, 0, ..., 0, 0, 0],\n",
       "       [0, 0, 0, ..., 0, 0, 0],\n",
       "       [0, 0, 0, ..., 0, 0, 0]])"
      ]
     },
     "execution_count": 10,
     "metadata": {},
     "output_type": "execute_result"
    }
   ],
   "source": [
    "print(bin_train_imgs.shape)\n",
    "bin_train_imgs"
   ]
  },
  {
   "cell_type": "markdown",
   "metadata": {},
   "source": [
    "## Implementing the Naive Bayesian, Bernoulli\n",
    "\n",
    "To implement this classifier, there are only two steps:\n",
    "- estimating parameters $\\theta$ (including the prior probability for each class).\n",
    "- inference itself:\n",
    "    - knowing the parameters, return the posterior probability of classes\n",
    "    - (for each image) infer the class (given the model, and this image' data)\n",
    "\n",
    "\n",
    "To-do list:\n",
    "Before coding, **pen and paper** !\n",
    "- Which are the parameters $\\theta$? Define them precisely.\n",
    "- Write down the exact equations for each step; ideally, down to the pixel level.\n",
    "\n",
    "If you don't know how to start, start with the end: write down the probability P(y|X) (see your lecture notes)"
   ]
  },
  {
   "cell_type": "markdown",
   "metadata": {},
   "source": [
    "\n",
    "Now that **you know exactly what you want**, write down the functions needed.\n",
    "\n",
    "Check them at several stages: \n",
    "- represent the parameters as images or graphs, (choose adequately)\n",
    "- check your prediction on a couple of examples (not just 1 !!)"
   ]
  },
  {
   "cell_type": "code",
   "execution_count": 11,
   "metadata": {},
   "outputs": [
    {
     "data": {
      "image/png": "[encoded data removed]",
      "text/plain": [
       "<Figure size 432x288 with 1 Axes>"
      ]
     },
     "metadata": {
      "needs_background": "light"
     },
     "output_type": "display_data"
    },
    {
     "data": {
      "image/png": "[encoded data removed]",
      "text/plain": [
       "<Figure size 432x288 with 1 Axes>"
      ]
     },
     "metadata": {
      "needs_background": "light"
     },
     "output_type": "display_data"
    },
    {
     "data": {
      "image/png": "[encoded data removed]",
      "text/plain": [
       "<Figure size 432x288 with 1 Axes>"
      ]
     },
     "metadata": {
      "needs_background": "light"
     },
     "output_type": "display_data"
    },
    {
     "data": {
      "image/png": "[encoded data removed]",
      "text/plain": [
       "<Figure size 432x288 with 1 Axes>"
      ]
     },
     "metadata": {
      "needs_background": "light"
     },
     "output_type": "display_data"
    },
    {
     "data": {
      "image/png": "[encoded data removed]",
      "text/plain": [
       "<Figure size 432x288 with 1 Axes>"
      ]
     },
     "metadata": {
      "needs_background": "light"
     },
     "output_type": "display_data"
    },
    {
     "data": {
      "image/png": "[encoded data removed]",
      "text/plain": [
       "<Figure size 432x288 with 1 Axes>"
      ]
     },
     "metadata": {
      "needs_background": "light"
     },
     "output_type": "display_data"
    },
    {
     "data": {
      "image/png": "[encoded data removed]",
      "text/plain": [
       "<Figure size 432x288 with 1 Axes>"
      ]
     },
     "metadata": {
      "needs_background": "light"
     },
     "output_type": "display_data"
    },
    {
     "data": {
      "image/png": "[encoded data removed]",
      "text/plain": [
       "<Figure size 432x288 with 1 Axes>"
      ]
     },
     "metadata": {
      "needs_background": "light"
     },
     "output_type": "display_data"
    },
    {
     "data": {
      "image/png": "[encoded data removed]",
      "text/plain": [
       "<Figure size 432x288 with 1 Axes>"
      ]
     },
     "metadata": {
      "needs_background": "light"
     },
     "output_type": "display_data"
    },
    {
     "data": {
      "image/png": "[encoded data removed]",
      "text/plain": [
       "<Figure size 432x288 with 1 Axes>"
      ]
     },
     "metadata": {
      "needs_background": "light"
     },
     "output_type": "display_data"
    }
   ],
   "source": [
    "## extract the parameters (those associated to each class, which are essentially \"representatives\")\n",
    "D = 28*28\n",
    "K = NLABELS\n",
    "pkj = np.zeros((K, D))\n",
    "for k in range(K):\n",
    "    training_sub_set = bin_train_imgs[labels==k]# get the subpart of train for the class\n",
    "    pkj[k] = training_sub_set.mean(axis=0)    # compute the average rate \n",
    "\n",
    "    # plot pkj[k][:], the Bernoulli parameters, as an image, for each class\n",
    "    fig = plt.figure()\n",
    "    a=fig.add_subplot(1,2,1)\n",
    "    plt.imshow(pkj[k].reshape(28,28) , matplotlib.pyplot.cm.jet)  \n",
    "    a.set_title('mean image of the class '+str(k))\n",
    "    matplotlib.pyplot.show()"
   ]
  },
  {
   "cell_type": "code",
   "execution_count": 13,
   "metadata": {},
   "outputs": [
    {
     "name": "stdout",
     "output_type": "stream",
     "text": [
      "[0.09864 0.11356 0.09936 0.10202 0.09718 0.09012 0.09902 0.1035  0.09684\n",
      " 0.09976]\n"
     ]
    }
   ],
   "source": [
    "## compute the priors (for each class)\n",
    "priors = np.zeros((K))\n",
    "for k in range(K):\n",
    "    priors[k]=labels[labels==k].shape[0]\n",
    "priors = priors/priors.sum()\n",
    "print(priors)"
   ]
  },
  {
   "cell_type": "code",
   "execution_count": 16,
   "metadata": {},
   "outputs": [
    {
     "name": "stdout",
     "output_type": "stream",
     "text": [
      "posterior probabilities for each class:\n",
      " [-283.39445548 -342.00155442 -272.25952734 -208.11067187 -308.95356779\n",
      " -203.56240081 -380.47159191 -286.98886682 -226.62634931 -292.4021646 ] \n",
      " Predicted label for this image: 5\n",
      "(log) posterior value for that class:  -203.5624008106717\n"
     ]
    }
   ],
   "source": [
    "## make a function that computes the posterior, for a given image\n",
    "# trick: when computing log(p), one should type log(1+EPSILON), to avoid float overflow errors (when p~0)\n",
    "def computePosteriors(image, EPSILON=1e-6):  ## 1e-100 seems too little !!\n",
    "    posteriors = np.zeros([NLABELS])\n",
    "    for k in range(NLABELS):\n",
    "        p = pkj[k]  # average image of label k (array of length 784)\n",
    "        logp1 = np.log(p+EPSILON)\n",
    "        logp2 = np.log(1-p+EPSILON)\n",
    "        ## Log-LikelyHood = LLH : log(pi_k) + log( P(xi|k,theta) )  (+regularization)\n",
    "        llh = np.dot(image,logp1)+np.dot(1-image,logp2) # im*log(average_Im + EPS) + (1-im)*log(1-average_IM+EPS)\n",
    "        post = llh + np.log(priors[k])   ## we add  log(prior)  to account for the inner distribution of classes \n",
    "        posteriors[k]= post\n",
    "    return posteriors\n",
    "posts=computePosteriors(bin_train_imgs[0])   \n",
    "print(\"posterior probabilities for each class:\\n\", posts,\"\\n Predicted label for this image:\",np.argmax(posts))\n",
    "print(\"(log) posterior value for that class: \", np.max(posts) )"
   ]
  },
  {
   "cell_type": "code",
   "execution_count": 17,
   "metadata": {},
   "outputs": [
    {
     "data": {
      "text/plain": [
       "<matplotlib.image.AxesImage at 0x17d81c7a6a0>"
      ]
     },
     "execution_count": 17,
     "metadata": {},
     "output_type": "execute_result"
    },
    {
     "data": {
      "image/png": "[encoded data removed]",
      "text/plain": [
       "<Figure size 432x288 with 1 Axes>"
      ]
     },
     "metadata": {
      "needs_background": "light"
     },
     "output_type": "display_data"
    }
   ],
   "source": [
    "just_1_image_for_test = binarize_image(bin_train_imgs[0], 0.8)\n",
    "plt.imshow(just_1_image_for_test.reshape(28,28) , matplotlib.pyplot.cm.gray)"
   ]
  },
  {
   "cell_type": "markdown",
   "metadata": {},
   "source": [
    "### [option 1: apply your function to all the train/test data]"
   ]
  },
  {
   "cell_type": "code",
   "execution_count": 20,
   "metadata": {},
   "outputs": [],
   "source": [
    "from timeit import default_timer as timer"
   ]
  },
  {
   "cell_type": "code",
   "execution_count": 21,
   "metadata": {},
   "outputs": [
    {
     "name": "stdout",
     "output_type": "stream",
     "text": [
      "2.3672902  seconds (test set)\n"
     ]
    }
   ],
   "source": [
    "## this is slow !! ##\n",
    "def makePrediction(images):\n",
    "    N = images.shape[0]\n",
    "    posteriors = np.zeros((N,K))\n",
    "    predictions = np.zeros(N, dtype=int)\n",
    "    for i in range(N):\n",
    "        posteriors[i] = computePosteriors(images[i], EPSILON=1e-5)\n",
    "        predictions[i] = np.argmax(posteriors[i]) ## one-liner. See the help page of: np.argmax()\n",
    "    return predictions\n",
    "\n",
    "# start = timeit.timeit()\n",
    "# prediction_train = makePrediction(bin_train_imgs)\n",
    "# end = timeit.timeit()\n",
    "# print(end - start, \" seconds (training set)\")\n",
    "\n",
    "start = timer()\n",
    "prediction_test = makePrediction(bin_test_imgs)\n",
    "end = timer()\n",
    "print(end - start, \" seconds (test set)\")"
   ]
  },
  {
   "cell_type": "code",
   "execution_count": 19,
   "metadata": {},
   "outputs": [
    {
     "data": {
      "text/plain": [
       "(array([7, 2, 1, ..., 9, 8, 6]), array([7, 2, 1, ..., 4, 5, 6]))"
      ]
     },
     "execution_count": 19,
     "metadata": {},
     "output_type": "execute_result"
    }
   ],
   "source": [
    "prediction_test, labels_test"
   ]
  },
  {
   "cell_type": "code",
   "execution_count": 22,
   "metadata": {},
   "outputs": [
    {
     "data": {
      "text/plain": [
       "(array([7, 2, 1, 0, 4, 1, 4, 9, 4, 9, 0, 6, 9, 0, 1, 3, 9, 7, 3, 4, 9, 6,\n",
       "        4, 5, 4, 0, 7, 4, 0, 1, 3, 1, 3, 0, 7, 2, 7, 1, 3, 1]),\n",
       " array([7, 2, 1, 0, 4, 1, 4, 9, 5, 9, 0, 6, 9, 0, 1, 5, 9, 7, 3, 4, 9, 6,\n",
       "        6, 5, 4, 0, 7, 4, 0, 1, 3, 1, 3, 4, 7, 2, 7, 1, 2, 1]),\n",
       " array([0, 0, 0, 0, 0, 0, 0, 0, 1, 0, 0, 0, 0, 0, 0, 1, 0, 0, 0, 0, 0, 0,\n",
       "        1, 0, 0, 0, 0, 0, 0, 0, 0, 0, 0, 1, 0, 0, 0, 0, 1, 0]))"
      ]
     },
     "execution_count": 22,
     "metadata": {},
     "output_type": "execute_result"
    }
   ],
   "source": [
    "prediction_test[:40], labels_test[:40], (prediction_test!=labels_test)[:40]*1"
   ]
  },
  {
   "cell_type": "code",
   "execution_count": 23,
   "metadata": {},
   "outputs": [
    {
     "data": {
      "text/plain": [
       "(10000,)"
      ]
     },
     "execution_count": 23,
     "metadata": {},
     "output_type": "execute_result"
    }
   ],
   "source": []
  },
  {
   "cell_type": "code",
   "execution_count": 26,
   "metadata": {},
   "outputs": [
    {
     "data": {
      "text/plain": [
       "84.38"
      ]
     },
     "execution_count": 26,
     "metadata": {},
     "output_type": "execute_result"
    }
   ],
   "source": [
    "np.sum((prediction_test==labels_test)*1)/prediction_test.shape[0]*100"
   ]
  },
  {
   "cell_type": "code",
   "execution_count": 23,
   "metadata": {},
   "outputs": [
    {
     "data": {
      "text/plain": [
       "(array([7, 2, 1, ..., 9, 8, 6]), array([7, 2, 1, ..., 4, 5, 6]))"
      ]
     },
     "execution_count": 23,
     "metadata": {},
     "output_type": "execute_result"
    }
   ],
   "source": [
    "prediction_test, labels_test"
   ]
  },
  {
   "cell_type": "markdown",
   "metadata": {},
   "source": [
    "### [option 2: re-write your function in a more pythonic way, handling all images at once]"
   ]
  },
  {
   "cell_type": "code",
   "execution_count": 26,
   "metadata": {},
   "outputs": [],
   "source": [
    "##[option 2]: much more pythonic: array-wise computation \n",
    "##(much much faster)\n",
    "def computePosteriorsAllImages(image, EPSILON=1e-5):\n",
    "    Nexamples = image.shape[0] \n",
    "    ## we handle the special case of doing just 1 image at a time :\n",
    "    if len(image.shape) == 1:\n",
    "        Nexamples = 1\n",
    "    \n",
    "    # the main difference is here: in the shape of the array \"posteriors\": we add 1 dimension\n",
    "    posteriors = np.zeros([NLABELS, Nexamples])\n",
    "    \n",
    "    for k in range(NLABELS):\n",
    "        p = pkj[k]  \n",
    "        logp1 = np.log(p+EPSILON)\n",
    "        logp2 = np.log(1-p+EPSILON)\n",
    "        llh = np.dot(image,logp1)+np.dot(1-image,logp2) # im*log(average_Im + EPS) + (1-im)*log(1-average_IM+EPS)\n",
    "        post = llh + np.log(priors[k])   ## we add  log(prior)  to account for the inner distribution of classes \n",
    "        \n",
    "        ## this is the second difference with the 1st version: we have to write the result \n",
    "        ## into the k-th component of the array\n",
    "        posteriors[k]= post.copy()\n",
    "    return posteriors\n",
    "    \n",
    "posteriorsAllImages = computePosteriorsAllImages(images)"
   ]
  },
  {
   "cell_type": "code",
   "execution_count": 27,
   "metadata": {},
   "outputs": [
    {
     "name": "stdout",
     "output_type": "stream",
     "text": [
      "3.59964203835  seconds (training set)\n",
      "0.69525384903  seconds (test set)\n"
     ]
    },
    {
     "data": {
      "text/plain": [
       "array([7, 2, 1, ..., 9, 5, 6])"
      ]
     },
     "execution_count": 27,
     "metadata": {},
     "output_type": "execute_result"
    }
   ],
   "source": [
    "def makePrediction(images):\n",
    "    predictions = np.argmax(computePosteriorsAllImages(images), axis=0)\n",
    "    return predictions\n",
    "\n",
    "start = timer()\n",
    "predictions_train = makePrediction(images)\n",
    "end = timer()\n",
    "print(end - start, \" seconds (training set)\")\n",
    "\n",
    "start = timer()\n",
    "predictions_test = makePrediction(images_test)\n",
    "end = timer()\n",
    "print(end - start, \" seconds (test set)\")"
   ]
  },
  {
   "cell_type": "markdown",
   "metadata": {},
   "source": [
    "# NOTE: \n",
    "\n",
    "you can see that the full-numpy-version (no loop, except on classes, just 10 iteration) is about ~100x faster !"
   ]
  },
  {
   "cell_type": "markdown",
   "metadata": {},
   "source": [
    "note: \n",
    "\n",
    "at this point, you should have two arrays, *prediction_test_data* and *prediction_train*\n",
    "\n",
    "## evaluation of the quality of the classifier\n",
    "evaluate the classifier on the test data:\n",
    "- compute the error rate\n",
    "- show the confusion matrix\n"
   ]
  },
  {
   "cell_type": "code",
   "execution_count": 28,
   "metadata": {},
   "outputs": [
    {
     "name": "stdout",
     "output_type": "stream",
     "text": [
      "OK : 821.0 / 1000.0 -> 82.1%\n",
      "OK : 1601.0 / 2000.0 -> 80.05%\n",
      "OK : 2406.0 / 3000.0 -> 80.2%\n",
      "OK : 3213.0 / 4000.0 -> 80.325%\n",
      "OK : 4007.0 / 5000.0 -> 80.14%\n",
      "OK : 4893.0 / 6000.0 -> 81.55%\n",
      "OK : 5771.0 / 7000.0 -> 82.4428571429%\n",
      "OK : 6652.0 / 8000.0 -> 83.15%\n",
      "OK : 7593.0 / 9000.0 -> 84.3666666667%\n",
      "OK : 8443.0 / 10000.0 -> 84.43%\n",
      "OK : 8443.0 / 10000.0 -> 84.43%\n"
     ]
    }
   ],
   "source": [
    "def compute_confusion_matrix(dataset, groundTruthLabels ):\n",
    "    tot=0.0\n",
    "    correct=0.0\n",
    "    confusion = np.zeros([NLABELS,NLABELS])\n",
    "    for i in range(dataset.shape[0]):\n",
    "        posts = computePosteriors(dataset[i],1e-100)\n",
    "        prediction=np.argmax(posts)\n",
    "        if prediction==groundTruthLabels[i]:\n",
    "            correct+=1\n",
    "        confusion[prediction][groundTruthLabels[i]]+=1\n",
    "        tot+=1\n",
    "        if (tot%1000==0):\n",
    "            print(\"OK : \"+str(correct)+\" / \"+str(tot)+ \" -> \"+ str(correct*100/tot)+\"%\"  )\n",
    "    print(\"OK : \"+str(correct)+\" / \"+str(tot)+ \" -> \"+ str(correct*100/tot)+\"%\")  \n",
    "    return confusion\n",
    "\n",
    "test_set_conf_mat = compute_confusion_matrix(bin_test_imgs, labels_test)"
   ]
  },
  {
   "cell_type": "code",
   "execution_count": 29,
   "metadata": {},
   "outputs": [
    {
     "name": "stdout",
     "output_type": "stream",
     "text": [
      "OK : 842.0 / 1000.0 -> 84.2%\n",
      "OK : 1670.0 / 2000.0 -> 83.5%\n",
      "OK : 2517.0 / 3000.0 -> 83.9%\n",
      "OK : 3377.0 / 4000.0 -> 84.425%\n",
      "OK : 4234.0 / 5000.0 -> 84.68%\n",
      "OK : 5083.0 / 6000.0 -> 84.7166666667%\n",
      "OK : 5933.0 / 7000.0 -> 84.7571428571%\n",
      "OK : 6751.0 / 8000.0 -> 84.3875%\n",
      "OK : 7574.0 / 9000.0 -> 84.1555555556%\n",
      "OK : 8427.0 / 10000.0 -> 84.27%\n",
      "OK : 9287.0 / 11000.0 -> 84.4272727273%\n",
      "OK : 10112.0 / 12000.0 -> 84.2666666667%\n",
      "OK : 10935.0 / 13000.0 -> 84.1153846154%\n",
      "OK : 11758.0 / 14000.0 -> 83.9857142857%\n",
      "OK : 12550.0 / 15000.0 -> 83.6666666667%\n",
      "OK : 13383.0 / 16000.0 -> 83.64375%\n",
      "OK : 14213.0 / 17000.0 -> 83.6058823529%\n",
      "OK : 15027.0 / 18000.0 -> 83.4833333333%\n",
      "OK : 15899.0 / 19000.0 -> 83.6789473684%\n",
      "OK : 16739.0 / 20000.0 -> 83.695%\n",
      "OK : 17563.0 / 21000.0 -> 83.6333333333%\n",
      "OK : 18420.0 / 22000.0 -> 83.7272727273%\n",
      "OK : 19236.0 / 23000.0 -> 83.6347826087%\n",
      "OK : 20073.0 / 24000.0 -> 83.6375%\n",
      "OK : 20877.0 / 25000.0 -> 83.508%\n",
      "OK : 21718.0 / 26000.0 -> 83.5307692308%\n",
      "OK : 22552.0 / 27000.0 -> 83.5259259259%\n",
      "OK : 23388.0 / 28000.0 -> 83.5285714286%\n",
      "OK : 24248.0 / 29000.0 -> 83.6137931034%\n",
      "OK : 25070.0 / 30000.0 -> 83.5666666667%\n",
      "OK : 25868.0 / 31000.0 -> 83.4451612903%\n",
      "OK : 26682.0 / 32000.0 -> 83.38125%\n",
      "OK : 27485.0 / 33000.0 -> 83.2878787879%\n",
      "OK : 28332.0 / 34000.0 -> 83.3294117647%\n",
      "OK : 29184.0 / 35000.0 -> 83.3828571429%\n",
      "OK : 30048.0 / 36000.0 -> 83.4666666667%\n",
      "OK : 30902.0 / 37000.0 -> 83.5189189189%\n",
      "OK : 31704.0 / 38000.0 -> 83.4315789474%\n",
      "OK : 32563.0 / 39000.0 -> 83.4948717949%\n",
      "OK : 33392.0 / 40000.0 -> 83.48%\n",
      "OK : 34259.0 / 41000.0 -> 83.5585365854%\n",
      "OK : 35088.0 / 42000.0 -> 83.5428571429%\n",
      "OK : 35893.0 / 43000.0 -> 83.4720930233%\n",
      "OK : 36737.0 / 44000.0 -> 83.4931818182%\n",
      "OK : 37585.0 / 45000.0 -> 83.5222222222%\n",
      "OK : 38418.0 / 46000.0 -> 83.5173913043%\n",
      "OK : 39242.0 / 47000.0 -> 83.4936170213%\n",
      "OK : 40083.0 / 48000.0 -> 83.50625%\n",
      "OK : 40939.0 / 49000.0 -> 83.5489795918%\n",
      "OK : 41742.0 / 50000.0 -> 83.484%\n",
      "OK : 41742.0 / 50000.0 -> 83.484%\n"
     ]
    }
   ],
   "source": [
    "## long to compute, and kind of useless \n",
    "## (could be much faster to compute if we used  computePosteriorsAllImages() )\n",
    "train_set_conf_mat = compute_confusion_matrix(bin_train_imgs, labels)"
   ]
  },
  {
   "cell_type": "code",
   "execution_count": 30,
   "metadata": {},
   "outputs": [
    {
     "data": {
      "image/png": "[encoded data removed]",
      "text/plain": [
       "<Figure size 432x288 with 2 Axes>"
      ]
     },
     "metadata": {},
     "output_type": "display_data"
    },
    {
     "data": {
      "text/plain": [
       "array([[ 889,    0,   17,    2,    2,   19,   15,    1,   13,   11],\n",
       "       [   0, 1079,   13,   15,    6,    8,   17,   28,   26,   16],\n",
       "       [   3,   11,  855,   34,    7,    6,   16,   15,   12,    5],\n",
       "       [   3,    4,   30,  850,    0,  115,    1,    4,   72,    8],\n",
       "       [   1,    0,   22,    0,  793,   24,   16,   16,   17,   70],\n",
       "       [  40,    9,    4,   22,    3,  642,   31,    1,   20,    9],\n",
       "       [  27,    6,   21,    8,   19,   20,  855,    0,   11,    1],\n",
       "       [   1,    1,   15,   14,    2,    9,    0,  874,    5,   26],\n",
       "       [  16,   25,   52,   43,   18,   27,    7,   27,  761,   18],\n",
       "       [   0,    0,    3,   22,  132,   22,    0,   62,   37,  845]])"
      ]
     },
     "execution_count": 30,
     "metadata": {},
     "output_type": "execute_result"
    }
   ],
   "source": [
    "#confusion = np.zeros((10,10))\n",
    "#confusion = np.log(test_set_conf_mat)\n",
    "confusion = test_set_conf_mat\n",
    "## showing the confusion matrix with a color map (\"heat map\")\n",
    "import pylab as pl\n",
    "fig = plt.figure()\n",
    "ax = fig.add_subplot(111)\n",
    "cax = ax.matshow(confusion)\n",
    "pl.title('Confusion matrix of the classifier')\n",
    "fig.colorbar(cax)\n",
    "pl.xlabel('True')\n",
    "pl.ylabel('Pred.')\n",
    "pl.show()\n",
    "np.array(confusion,int)"
   ]
  },
  {
   "cell_type": "markdown",
   "metadata": {
    "collapsed": true
   },
   "source": [
    "## checking using SciKit-learn\n",
    "\n",
    "We're going to check results by cmparing with SKlearn's implementation' output.\n",
    "- reproduce the experiment, using \n",
    "- try also with a Gaussian model (still Naive Bayes, but Gaussian instead of Bernoulli, still in SKlearn)"
   ]
  },
  {
   "cell_type": "code",
   "execution_count": 31,
   "metadata": {},
   "outputs": [
    {
     "name": "stdout",
     "output_type": "stream",
     "text": [
      "(Gaussian) test accuracy: 55.44\n",
      "(Gaussian) train accuracy: 56.24\n"
     ]
    }
   ],
   "source": [
    "## TODO: choose which class you want to use from the package sklearn.naive_bayes\n",
    "from sklearn.naive_bayes import  GaussianNB\n",
    "clf1 = GaussianNB()\n",
    "## note: for a Gaussian model, use the data BEFORE binarization.\n",
    "clf1.fit(train_set[0],train_set[1]) \n",
    "print(\"(Gaussian) test accuracy:\", clf1.score(images_test,test_set[1])*100)\n",
    "print(\"(Gaussian) train accuracy:\", clf1.score(train_set[0],train_set[1])*100)\n"
   ]
  },
  {
   "cell_type": "code",
   "execution_count": 32,
   "metadata": {},
   "outputs": [],
   "source": [
    "## We can check that scikit-learn performs as well as our model:"
   ]
  },
  {
   "cell_type": "code",
   "execution_count": 33,
   "metadata": {},
   "outputs": [
    {
     "name": "stdout",
     "output_type": "stream",
     "text": [
      "(Bernoulli) test accuracy: 84.16\n",
      "(Bernoulli) train accuracy: 82.856\n"
     ]
    }
   ],
   "source": [
    "from sklearn.naive_bayes import BernoulliNB\n",
    "clf2 = BernoulliNB()\n",
    "clf2.fit(images,train_set[1])\n",
    "print(\"(Bernoulli) test accuracy:\", clf2.score(images_test,test_set[1])*100)\n",
    "print(\"(Bernoulli) train accuracy:\", clf2.score(images,train_set[1])*100)"
   ]
  },
  {
   "cell_type": "markdown",
   "metadata": {},
   "source": [
    "# REMARKS:\n",
    "\n",
    "1) The gaussian prior is a much worst model compared to the Bernoulli one. Sometimes, simpler is better !\n",
    "\n",
    "2) The Bernoulli rresult of scikit-learn produces slightly different results compared to our \"from scratch\" one. Why ?  (think about it.... answer: because of our regularization EPSILON=1e-6 .. the default may be different in the library)"
   ]
  },
  {
   "cell_type": "markdown",
   "metadata": {},
   "source": [
    "# Second Example"
   ]
  },
  {
   "cell_type": "markdown",
   "metadata": {
    "collapsed": true
   },
   "source": [
    "# Sparse data : 20newsgroups\n",
    "\n",
    "Let's hop to text classification. Texts are characterized by very sparse distributions (of words).\n",
    "\n",
    "We'll use the dataset 20newsgroups, which is available within SKlearn."
   ]
  },
  {
   "cell_type": "code",
   "execution_count": 30,
   "metadata": {},
   "outputs": [],
   "source": [
    "from sklearn.datasets import fetch_20newsgroups\n",
    "categories=None\n",
    "data_train = fetch_20newsgroups(subset='train', categories=categories,\n",
    "                                shuffle=True, random_state=42)\n",
    "\n",
    "data_test = fetch_20newsgroups(subset='test', categories=categories,\n",
    "                               shuffle=True, random_state=42,)\n",
    "\n",
    "from sklearn.feature_extraction.text import HashingVectorizer\n",
    "vectorizer = HashingVectorizer(stop_words='english',binary=True)\n",
    "X_train = vectorizer.transform(data_train.data)\n",
    "X_test = vectorizer.transform(data_test.data)\n",
    "\n",
    "# test set\n",
    "y_train, y_test = data_train.target, data_test.target"
   ]
  },
  {
   "cell_type": "markdown",
   "metadata": {},
   "source": [
    "- Describe the data (size, type..)"
   ]
  },
  {
   "cell_type": "code",
   "execution_count": 31,
   "metadata": {},
   "outputs": [
    {
     "name": "stdout",
     "output_type": "stream",
     "text": [
      "From: guykuo@carson.u.washington.edu (Guy Kuo)\n",
      "Subject: SI Clock Poll - Final Call\n",
      "Summary: Final call for SI clock reports\n",
      "Keywords: SI,acceleration,clock,upgrade\n",
      "Article-I.D.: shelley.1qvfo9INNc3s\n",
      "Organization: University of Washington\n",
      "Lines: 11\n",
      "NNTP-Posting-Host: carson.u.washington.edu\n",
      "\n",
      "A fair number of brave souls who upgraded their SI clock oscillator have\n",
      "shared their experiences for this poll. Please send a brief message detailing\n",
      "your experiences with the procedure. Top speed attained, CPU rated speed,\n",
      "add on cards and adapters, heat sinks, hour of usage per day, floppy disk\n",
      "functionality with 800 and 1.4 m floppies are especially requested.\n",
      "\n",
      "I will be summarizing in the next two days, so please add to the network\n",
      "knowledge base if you have done the clock upgrade and haven't answered this\n",
      "poll. Thanks.\n",
      "\n",
      "Guy Kuo <guykuo@u.washington.edu>\n",
      "\n",
      "From: twillis@ec.ecn.purdue.edu (Thomas E Willis)\n",
      "Subject: PB questions...\n",
      "Organization: Purdue University Engineering Computer Network\n",
      "Distribution: usa\n",
      "Lines: 36\n",
      "\n",
      "well folks, my mac plus finally gave up the ghost this weekend after\n",
      "starting life as a 512k way back in 1985.  sooo, i'm in the market for a\n",
      "new machine a bit sooner than i intended to be...\n",
      "\n",
      "i'm looking into picking up a powerbook 160 or maybe 180 and have a bunch\n",
      "of questions that (hopefully) somebody can answer:\n",
      "\n",
      "* does anybody know any dirt on when the next round of powerbook\n",
      "introductions are expected?  i'd heard the 185c was supposed to make an\n",
      "appearence \"this summer\" but haven't heard anymore on it - and since i\n",
      "don't have access to macleak, i was wondering if anybody out there had\n",
      "more info...\n",
      "\n",
      "* has anybody heard rumors about price drops to the powerbook line like the\n",
      "ones the duo's just went through recently?\n",
      "\n",
      "* what's the impression of the display on the 180?  i could probably swing\n",
      "a 180 if i got the 80Mb disk rather than the 120, but i don't really have\n",
      "a feel for how much \"better\" the display is (yea, it looks great in the\n",
      "store, but is that all \"wow\" or is it really that good?).  could i solicit\n",
      "some opinions of people who use the 160 and 180 day-to-day on if its worth\n",
      "taking the disk size and money hit to get the active display?  (i realize\n",
      "this is a real subjective question, but i've only played around with the\n",
      "machines in a computer store breifly and figured the opinions of somebody\n",
      "who actually uses the machine daily might prove helpful).\n",
      "\n",
      "* how well does hellcats perform?  ;)\n",
      "\n",
      "thanks a bunch in advance for any info - if you could email, i'll post a\n",
      "summary (news reading time is at a premium with finals just around the\n",
      "corner... :( )\n",
      "--\n",
      "Tom Willis  \\  twillis@ecn.purdue.edu    \\    Purdue Electrical Engineering\n",
      "---------------------------------------------------------------------------\n",
      "\"Convictions are more dangerous enemies of truth than lies.\"  - F. W.\n",
      "Nietzsche\n",
      "\n"
     ]
    }
   ],
   "source": [
    "print(data_train.data[1])\n",
    "print(data_train.data[2])"
   ]
  },
  {
   "cell_type": "code",
   "execution_count": 32,
   "metadata": {},
   "outputs": [
    {
     "name": "stdout",
     "output_type": "stream",
     "text": [
      "4\n",
      "4\n"
     ]
    }
   ],
   "source": [
    "print(data_train.target[1])\n",
    "print(data_train.target[2])"
   ]
  },
  {
   "cell_type": "code",
   "execution_count": 33,
   "metadata": {},
   "outputs": [
    {
     "name": "stdout",
     "output_type": "stream",
     "text": [
      "(11314, 1048576) (7532, 1048576)\n"
     ]
    }
   ],
   "source": [
    "print(X_train.shape , X_test.shape)"
   ]
  },
  {
   "cell_type": "markdown",
   "metadata": {},
   "source": [
    "- Train and test the Bernoulli Bayesian classifier using SKlearn's default (hyper-parameters) values"
   ]
  },
  {
   "cell_type": "code",
   "execution_count": 38,
   "metadata": {},
   "outputs": [
    {
     "name": "stdout",
     "output_type": "stream",
     "text": [
      "51.31439192777483\n",
      "66.77567615343821\n"
     ]
    }
   ],
   "source": [
    "clf = BernoulliNB()\n",
    "clf.fit(X_train,y_train)\n",
    "print(clf.score(X_test,y_test)*100)\n",
    "print(clf.score(X_train,y_train)*100)\n"
   ]
  },
  {
   "cell_type": "markdown",
   "metadata": {},
   "source": [
    "- What are these default parameters ? What do they mean and what values were chosen / What choices were chosen ?\n",
    "- How to get a classifier without smoothing ? Do you expect it to work better ?"
   ]
  },
  {
   "cell_type": "code",
   "execution_count": 39,
   "metadata": {},
   "outputs": [
    {
     "name": "stderr",
     "output_type": "stream",
     "text": [
      "/home/flandes/miniconda2/lib/python2.7/site-packages/sklearn/naive_bayes.py:472: UserWarning: alpha too small will result in numeric errors, setting alpha = 1.0e-10\n",
      "  'setting alpha = %.1e' % _ALPHA_MIN)\n"
     ]
    },
    {
     "name": "stdout",
     "output_type": "stream",
     "text": [
      "77.74827403080191\n",
      "99.4608449708326\n"
     ]
    }
   ],
   "source": [
    "clf = BernoulliNB(alpha = 0.)\n",
    "clf.fit(X_train,y_train)\n",
    "print(clf.score(X_test,y_test)*100)\n",
    "print(clf.score(X_train,y_train)*100)"
   ]
  },
  {
   "cell_type": "markdown",
   "metadata": {},
   "source": [
    "# ANSWER : \n",
    "\n",
    "when we read the docs, we see that the defaul value for alpha is 1 ! This is a very large regularization value (much too large in this case).\n",
    "\n",
    "By setting it to 0, we find much better results"
   ]
  },
  {
   "cell_type": "markdown",
   "metadata": {},
   "source": [
    "## Impact of smoothing\n",
    "\n",
    "- Try out several smoothing constants, from $1$ to $10^{-15}$ (ok $10^-9$ is enough) by steps of factors of $10$\n",
    "- compute and report the train and test error rates for each\n"
   ]
  },
  {
   "cell_type": "code",
   "execution_count": 40,
   "metadata": {},
   "outputs": [
    {
     "name": "stdout",
     "output_type": "stream",
     "text": [
      "alpha=1 51.31439192777483 66.77567615343821\n",
      "alpha=0.1 71.95963887413701 91.03765246597136\n",
      "alpha=0.01 76.88528943175783 96.11101290436626\n",
      "alpha=0.001 77.68189060010621 97.56054445819339\n",
      "alpha=0.0001 77.93414763674986 98.24111719992929\n",
      "alpha=1e-05 78.0801911842804 98.59466148135054\n",
      "alpha=1e-06 78.10674455655868 98.93052854870072\n",
      "alpha=1e-07 78.05363781200212 99.10730068941135\n",
      "alpha=1e-08 77.9075942644716 99.27523422308644\n",
      "alpha=1e-09 77.80138077535848 99.36362029344176\n"
     ]
    }
   ],
   "source": [
    "Test_score = []\n",
    "Train_score = []\n",
    "alphas = [1, 0.1, 0.01, 0.001, 1e-4, 1e-5, 1e-6, 1e-7, 1e-8, 1e-9] \n",
    "for al in alphas: \n",
    "    clf = BernoulliNB(alpha=al)\n",
    "    clf.fit(X_train,y_train)\n",
    "    Test_score.append(clf.score(X_test,y_test)*100)\n",
    "    Train_score.append(clf.score(X_train,y_train)*100)\n",
    "    print(\"alpha=\"+str(al), clf.score(X_test,y_test)*100, clf.score(X_train,y_train)*100)"
   ]
  },
  {
   "cell_type": "markdown",
   "metadata": {},
   "source": [
    "- Plot the curves for these error rates as a function of the smoothing constant(code given below)\n",
    "- What do you see ? Explain."
   ]
  },
  {
   "cell_type": "code",
   "execution_count": 41,
   "metadata": {},
   "outputs": [
    {
     "data": {
      "image/png": "[encoded data removed]",
      "text/plain": [
       "<Figure size 432x288 with 1 Axes>"
      ]
     },
     "metadata": {},
     "output_type": "display_data"
    }
   ],
   "source": [
    "def plot_accuracy_vs_alpha(alphas, Train_score, Test_score):\n",
    "    fig = plt.figure()\n",
    "    ax = fig.add_subplot(111)\n",
    "    ax.set_xscale(\"log\")\n",
    "    ax.plot(alphas, Train_score, 'o-', label=\"train score\")\n",
    "    ax.plot(alphas, Test_score, 'x-', label=\"test score\")\n",
    "    pl.title('Training and Testing score for different values of smoothing')\n",
    "    pl.xlabel('Smoothing')\n",
    "    pl.ylabel('Score')\n",
    "    plt.legend(loc='best')\n",
    "    plt.ylim([60,100])\n",
    "    plt.xlim([1e-9,1])\n",
    "    pl.show() \n",
    "plot_accuracy_vs_alpha(alphas, Train_score, Test_score)"
   ]
  },
  {
   "cell_type": "code",
   "execution_count": 42,
   "metadata": {},
   "outputs": [
    {
     "name": "stdout",
     "output_type": "stream",
     "text": [
      "the best alpha value is (approximately) :  1e-06\n"
     ]
    }
   ],
   "source": [
    "print(\"the best alpha value is (approximately) : \",alphas[np.argmax(Test_score)])"
   ]
  },
  {
   "cell_type": "markdown",
   "metadata": {},
   "source": [
    "Congratulations ! You have performed your first hyper-parameter optimization ! \n",
    "\n",
    "Now the need for a third independent set (a.k.a. the validation set) should be very clear to you."
   ]
  },
  {
   "cell_type": "markdown",
   "metadata": {},
   "source": [
    "## Multinomial classifier\n",
    "\n",
    "see https://en.wikipedia.org/wiki/Multinomial_distribution for catching-up on maths.\n",
    "\n",
    "same questions: (Copy-Paste is your friend, whis question may take you less than 5 min)\n",
    "- train and test the SKlearn model with default parameters\n",
    "- What are these default parameters ? What do they mean and what values were chosen / What choices were chosen ?\n",
    "- What is the impact of smoothing ?"
   ]
  },
  {
   "cell_type": "code",
   "execution_count": 43,
   "metadata": {},
   "outputs": [
    {
     "name": "stdout",
     "output_type": "stream",
     "text": [
      "alpha=1.0 77.44291024960171 91.31164928407283\n",
      "alpha=0.5 78.75730217737653 93.71575039773732\n",
      "alpha=0.25 79.96548061603823 95.68675976666078\n",
      "alpha=0.1 81.09399893786511 97.3660951034117\n",
      "alpha=0.01 82.43494423791822 99.56690825525897\n",
      "alpha=0.001 82.4614976101965 99.84090507336045\n",
      "alpha=0.0001 81.57195963887413 99.8585822874315\n",
      "alpha=1e-05 80.82846521508232 99.8585822874315\n",
      "alpha=1e-06 80.33722782793414 99.86742089446703\n",
      "alpha=1e-07 79.97875730217737 99.86742089446703\n",
      "alpha=1e-08 79.54062665958577 99.86742089446703\n",
      "alpha=1e-09 79.0493892724376 99.86742089446703\n"
     ]
    }
   ],
   "source": [
    "from sklearn.naive_bayes import MultinomialNB\n",
    "Test_score = []\n",
    "Train_score = []\n",
    "alphas = [1., 0.5, 0.25, 0.1, 0.01, 0.001, 1e-4, 1e-5, 1e-6, 1e-7, 1e-8, 1e-9] \n",
    "for al in alphas: \n",
    "    clf = MultinomialNB(alpha=al)\n",
    "    clf.fit(X_train,y_train)\n",
    "    Test_score.append(clf.score(X_test,y_test)*100)\n",
    "    Train_score.append(clf.score(X_train,y_train)*100)\n",
    "    print(\"alpha=\"+str(al), clf.score(X_test,y_test)*100, clf.score(X_train,y_train)*100)"
   ]
  },
  {
   "cell_type": "code",
   "execution_count": 44,
   "metadata": {},
   "outputs": [
    {
     "data": {
      "image/png": "[encoded data removed]",
      "text/plain": [
       "<Figure size 432x288 with 1 Axes>"
      ]
     },
     "metadata": {},
     "output_type": "display_data"
    }
   ],
   "source": [
    "plot_accuracy_vs_alpha(alphas, Train_score, Test_score)"
   ]
  },
  {
   "cell_type": "code",
   "execution_count": 45,
   "metadata": {},
   "outputs": [
    {
     "name": "stdout",
     "output_type": "stream",
     "text": [
      "the best alpha value is (approximately) :  0.001\n"
     ]
    }
   ],
   "source": [
    "print(\"the best alpha value is (approximately) : \",alphas[np.argmax(Test_score)])"
   ]
  },
  {
   "cell_type": "markdown",
   "metadata": {},
   "source": [
    "## Crucial point: did we \"cheat\" ?\n",
    "- Visualize a couple more data examples, in particular take them all from the same class. Isn't there some piece  of information that we use here, and which looks a bit like \"cheating\" ?\n",
    "- Now import data, again using *sklearn.datasets.fetch_20newsgroups()*, but with other values for the argument \"remove\". How do your classifiers (Bernoulli / Multionmial) change ? \n",
    "- Why ? What do you think of this ?"
   ]
  },
  {
   "cell_type": "markdown",
   "metadata": {},
   "source": [
    "# ANSWER:\n",
    "\n",
    "we cheated because we also read the headers and footers from the emails (the input data). From this, it is pretty easy to notice who talks about what, and just guess the answer (the topic of discussion) from the names of the people.\n",
    "\n"
   ]
  },
  {
   "cell_type": "code",
   "execution_count": 46,
   "metadata": {},
   "outputs": [
    {
     "name": "stderr",
     "output_type": "stream",
     "text": [
      "/home/flandes/miniconda2/lib/python2.7/site-packages/sklearn/feature_extraction/hashing.py:94: DeprecationWarning: the option non_negative=True has been deprecated in 0.19 and will be removed in version 0.21.\n",
      "  \" in version 0.21.\", DeprecationWarning)\n",
      "/home/flandes/miniconda2/lib/python2.7/site-packages/sklearn/feature_extraction/hashing.py:94: DeprecationWarning: the option non_negative=True has been deprecated in 0.19 and will be removed in version 0.21.\n",
      "  \" in version 0.21.\", DeprecationWarning)\n",
      "/home/flandes/miniconda2/lib/python2.7/site-packages/sklearn/feature_extraction/hashing.py:94: DeprecationWarning: the option non_negative=True has been deprecated in 0.19 and will be removed in version 0.21.\n",
      "  \" in version 0.21.\", DeprecationWarning)\n",
      "/home/flandes/miniconda2/lib/python2.7/site-packages/sklearn/feature_extraction/hashing.py:94: DeprecationWarning: the option non_negative=True has been deprecated in 0.19 and will be removed in version 0.21.\n",
      "  \" in version 0.21.\", DeprecationWarning)\n"
     ]
    }
   ],
   "source": [
    "vectorizer_m = HashingVectorizer(stop_words='english',binary=False, norm=None, non_negative=True)\n",
    "X_train_m = vectorizer_m.transform(data_train.data)\n",
    "X_test_m = vectorizer_m.transform(data_test.data)\n",
    "\n",
    "data_train = fetch_20newsgroups(subset='train', categories=categories, \n",
    "                                shuffle=True, random_state=42, remove=('headers', 'footers', 'quotes'))\n",
    "\n",
    "data_test = fetch_20newsgroups(subset='test', categories=categories,\n",
    "                               shuffle=True, random_state=42, remove=('headers', 'footers', 'quotes'))\n",
    "\n",
    "X_train = vectorizer.transform(data_train.data)\n",
    "X_test = vectorizer.transform(data_test.data)\n",
    "\n",
    "X_train_m = vectorizer_m.transform(data_train.data)\n",
    "X_test_m = vectorizer_m.transform(data_test.data)\n",
    "\n",
    "# test set\n",
    "y_train, y_test = data_train.target, data_test.target"
   ]
  },
  {
   "cell_type": "code",
   "execution_count": 47,
   "metadata": {},
   "outputs": [
    {
     "name": "stdout",
     "output_type": "stream",
     "text": [
      "I was wondering if anyone out there could enlighten me on this car I saw\n",
      "the other day. It was a 2-door sports car, looked to be from the late 60s/\n",
      "early 70s. It was called a Bricklin. The doors were really small. In addition,\n",
      "the front bumper was separate from the rest of the body. This is \n",
      "all I know. If anyone can tellme a model name, engine specs, years\n",
      "of production, where this car is made, history, or whatever info you\n",
      "have on this funky looking car, please e-mail.\n"
     ]
    }
   ],
   "source": [
    "print(data_train.data[0])"
   ]
  },
  {
   "cell_type": "code",
   "execution_count": 48,
   "metadata": {},
   "outputs": [
    {
     "name": "stdout",
     "output_type": "stream",
     "text": [
      "Bernoulli test and train scores: 58.404142326075416 88.88987095633728\n",
      "Multinomial test and train scores: 64.48486457780137 90.86088032526074\n"
     ]
    }
   ],
   "source": [
    "clfB = BernoulliNB(alpha=1e-6)\n",
    "clfB.fit(X_train,y_train)\n",
    "print(\"Bernoulli test and train scores:\", clfB.score(X_test,y_test)*100, clfB.score(X_train,y_train)*100)\n",
    "clfM = MultinomialNB(alpha=0.001)\n",
    "clfM.fit(X_train_m,y_train)\n",
    "print(\"Multinomial test and train scores:\", clfM.score(X_test_m,y_test)*100, clfM.score(X_train_m,y_train)*100)"
   ]
  },
  {
   "cell_type": "markdown",
   "metadata": {},
   "source": [
    "## Think a bit about what you did\n",
    "\n",
    "What did we do here ? How much did we build an AI ? In the image case, independence of the pixels had a very clear interpretation.  Here as well, the \"Naive\" assumption of independence has a very clear interpretation. What do you think of this assumption ? \n",
    "\n",
    "Do you think this kind of method would work for any serious NLP task ? (e.g. translation)"
   ]
  },
  {
   "cell_type": "markdown",
   "metadata": {},
   "source": [
    "# ANSWER:\n",
    "\n",
    "in short: no. This is what more complex models are about: combining the inputs linearly or non-linearly, so as to classfiy not just their values independently, but also how the input values are correlated.\n",
    "\n",
    "Here we did the \"Naive\" (=independent input) version, so that things remain mathemtically simple, and so we can do things by hand."
   ]
  },
  {
   "cell_type": "code",
   "execution_count": null,
   "metadata": {},
   "outputs": [],
   "source": []
  }
 ],
 "metadata": {
  "anaconda-cloud": {},
  "kernelspec": {
   "display_name": "Python 3",
   "language": "python",
   "name": "python3"
  },
  "language_info": {
   "codemirror_mode": {
    "name": "ipython",
    "version": 3
   },
   "file_extension": ".py",
   "mimetype": "text/x-python",
   "name": "python",
   "nbconvert_exporter": "python",
   "pygments_lexer": "ipython3",
   "version": "3.6.8"
  }
 },
 "nbformat": 4,
 "nbformat_minor": 1
}
